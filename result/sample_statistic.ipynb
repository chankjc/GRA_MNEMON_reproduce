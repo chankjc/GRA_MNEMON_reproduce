{
 "cells": [
  {
   "cell_type": "code",
   "execution_count": 6,
   "metadata": {},
   "outputs": [],
   "source": [
    "import torch\n",
    "from torch_geometric.datasets import Actor, FacebookPagePage, Planetoid\n",
    "import torch_geometric.transforms as T"
   ]
  },
  {
   "cell_type": "code",
   "execution_count": 7,
   "metadata": {},
   "outputs": [],
   "source": [
    "DATASET_DIR=\"/tmp2/gra/datasets/\"\n",
    "EMBEDDING_DIR=\"/tmp2/gra/embedding/\"\n",
    "RESULT_DIR=\"/tmp2/gra/result/\""
   ]
  },
  {
   "cell_type": "code",
   "execution_count": 8,
   "metadata": {},
   "outputs": [
    {
     "ename": "NameError",
     "evalue": "name 'device' is not defined",
     "output_type": "error",
     "traceback": [
      "\u001b[0;31m---------------------------------------------------------------------------\u001b[0m",
      "\u001b[0;31mNameError\u001b[0m                                 Traceback (most recent call last)",
      "\u001b[1;32m/home/kjchan/Github Repositories/GRA_MNEMON_reproduce/result/sample_statistic.ipynb Cell 3\u001b[0m line \u001b[0;36m4\n\u001b[1;32m      <a href='vscode-notebook-cell://ssh-remote%2Bcuda5/home/kjchan/Github%20Repositories/GRA_MNEMON_reproduce/result/sample_statistic.ipynb#W4sdnNjb2RlLXJlbW90ZQ%3D%3D?line=0'>1</a>\u001b[0m transform \u001b[39m=\u001b[39m T\u001b[39m.\u001b[39mCompose(\n\u001b[1;32m      <a href='vscode-notebook-cell://ssh-remote%2Bcuda5/home/kjchan/Github%20Repositories/GRA_MNEMON_reproduce/result/sample_statistic.ipynb#W4sdnNjb2RlLXJlbW90ZQ%3D%3D?line=1'>2</a>\u001b[0m     [\n\u001b[1;32m      <a href='vscode-notebook-cell://ssh-remote%2Bcuda5/home/kjchan/Github%20Repositories/GRA_MNEMON_reproduce/result/sample_statistic.ipynb#W4sdnNjb2RlLXJlbW90ZQ%3D%3D?line=2'>3</a>\u001b[0m         T\u001b[39m.\u001b[39mNormalizeFeatures(),\n\u001b[0;32m----> <a href='vscode-notebook-cell://ssh-remote%2Bcuda5/home/kjchan/Github%20Repositories/GRA_MNEMON_reproduce/result/sample_statistic.ipynb#W4sdnNjb2RlLXJlbW90ZQ%3D%3D?line=3'>4</a>\u001b[0m         T\u001b[39m.\u001b[39mToDevice(device),\n\u001b[1;32m      <a href='vscode-notebook-cell://ssh-remote%2Bcuda5/home/kjchan/Github%20Repositories/GRA_MNEMON_reproduce/result/sample_statistic.ipynb#W4sdnNjb2RlLXJlbW90ZQ%3D%3D?line=4'>5</a>\u001b[0m         T\u001b[39m.\u001b[39mRandomLinkSplit(\n\u001b[1;32m      <a href='vscode-notebook-cell://ssh-remote%2Bcuda5/home/kjchan/Github%20Repositories/GRA_MNEMON_reproduce/result/sample_statistic.ipynb#W4sdnNjb2RlLXJlbW90ZQ%3D%3D?line=5'>6</a>\u001b[0m             num_val\u001b[39m=\u001b[39m\u001b[39m0.05\u001b[39m,\n\u001b[1;32m      <a href='vscode-notebook-cell://ssh-remote%2Bcuda5/home/kjchan/Github%20Repositories/GRA_MNEMON_reproduce/result/sample_statistic.ipynb#W4sdnNjb2RlLXJlbW90ZQ%3D%3D?line=6'>7</a>\u001b[0m             num_test\u001b[39m=\u001b[39m\u001b[39m0.1\u001b[39m,\n\u001b[1;32m      <a href='vscode-notebook-cell://ssh-remote%2Bcuda5/home/kjchan/Github%20Repositories/GRA_MNEMON_reproduce/result/sample_statistic.ipynb#W4sdnNjb2RlLXJlbW90ZQ%3D%3D?line=7'>8</a>\u001b[0m             is_undirected\u001b[39m=\u001b[39m\u001b[39mTrue\u001b[39;00m,\n\u001b[1;32m      <a href='vscode-notebook-cell://ssh-remote%2Bcuda5/home/kjchan/Github%20Repositories/GRA_MNEMON_reproduce/result/sample_statistic.ipynb#W4sdnNjb2RlLXJlbW90ZQ%3D%3D?line=8'>9</a>\u001b[0m             split_labels\u001b[39m=\u001b[39m\u001b[39mTrue\u001b[39;00m,\n\u001b[1;32m     <a href='vscode-notebook-cell://ssh-remote%2Bcuda5/home/kjchan/Github%20Repositories/GRA_MNEMON_reproduce/result/sample_statistic.ipynb#W4sdnNjb2RlLXJlbW90ZQ%3D%3D?line=9'>10</a>\u001b[0m             add_negative_train_samples\u001b[39m=\u001b[39m\u001b[39mFalse\u001b[39;00m,\n\u001b[1;32m     <a href='vscode-notebook-cell://ssh-remote%2Bcuda5/home/kjchan/Github%20Repositories/GRA_MNEMON_reproduce/result/sample_statistic.ipynb#W4sdnNjb2RlLXJlbW90ZQ%3D%3D?line=10'>11</a>\u001b[0m         ),\n\u001b[1;32m     <a href='vscode-notebook-cell://ssh-remote%2Bcuda5/home/kjchan/Github%20Repositories/GRA_MNEMON_reproduce/result/sample_statistic.ipynb#W4sdnNjb2RlLXJlbW90ZQ%3D%3D?line=11'>12</a>\u001b[0m     ]\n\u001b[1;32m     <a href='vscode-notebook-cell://ssh-remote%2Bcuda5/home/kjchan/Github%20Repositories/GRA_MNEMON_reproduce/result/sample_statistic.ipynb#W4sdnNjb2RlLXJlbW90ZQ%3D%3D?line=12'>13</a>\u001b[0m )\n\u001b[1;32m     <a href='vscode-notebook-cell://ssh-remote%2Bcuda5/home/kjchan/Github%20Repositories/GRA_MNEMON_reproduce/result/sample_statistic.ipynb#W4sdnNjb2RlLXJlbW90ZQ%3D%3D?line=15'>16</a>\u001b[0m datasets \u001b[39m=\u001b[39m {}\n\u001b[1;32m     <a href='vscode-notebook-cell://ssh-remote%2Bcuda5/home/kjchan/Github%20Repositories/GRA_MNEMON_reproduce/result/sample_statistic.ipynb#W4sdnNjb2RlLXJlbW90ZQ%3D%3D?line=16'>17</a>\u001b[0m embeddings \u001b[39m=\u001b[39m {}\n",
      "\u001b[0;31mNameError\u001b[0m: name 'device' is not defined"
     ]
    }
   ],
   "source": [
    "device = torch.device(f\"cuda:0\")\n",
    "\n",
    "transform = T.Compose(\n",
    "    [\n",
    "        T.NormalizeFeatures(),\n",
    "        T.ToDevice(device),\n",
    "        T.RandomLinkSplit(\n",
    "            num_val=0.05,\n",
    "            num_test=0.1,\n",
    "            is_undirected=True,\n",
    "            split_labels=True,\n",
    "            add_negative_train_samples=False,\n",
    "        ),\n",
    "    ]\n",
    ")\n",
    "\n",
    "\n",
    "datasets = {}\n",
    "embeddings = {}\n",
    "datasets[\"cora\"] = Planetoid(\n",
    "    root=DATASET_DIR, name=\"Cora\", transform=transform\n",
    ")\n",
    "embeddings[\"cora\"] = torch.load(f\"{EMBEDDING_DIR}gcn/cora/data.pt\")\n",
    "datasets[\"citeseer\"] = Planetoid(\n",
    "    root=DATASET_DIR, name=\"CiteSeer\", transform=transform\n",
    ")\n",
    "embeddings[\"citeseer\"] = torch.load(f\"{EMBEDDING_DIR}gcn/citeseer/data.pt\")\n",
    "datasets[\"actor\"] = Actor(\n",
    "    root=DATASET_DIR + \"/Actor\", transform=transform\n",
    ")\n",
    "embeddings[\"actor\"] = torch.load(f\"{EMBEDDING_DIR}gcn/actor/data.pt\")\n",
    "datasets[\"facebook\"] = FacebookPagePage(\n",
    "    root=DATASET_DIR + \"/Facebook\", transform=transform\n",
    ")\n",
    "embeddings[\"facebook\"] = torch.load(f\"{EMBEDDING_DIR}gcn/facebook/data.pt\")"
   ]
  },
  {
   "cell_type": "code",
   "execution_count": null,
   "metadata": {},
   "outputs": [],
   "source": []
  },
  {
   "cell_type": "code",
   "execution_count": null,
   "metadata": {},
   "outputs": [],
   "source": []
  }
 ],
 "metadata": {
  "kernelspec": {
   "display_name": "dt",
   "language": "python",
   "name": "python3"
  },
  "language_info": {
   "codemirror_mode": {
    "name": "ipython",
    "version": 3
   },
   "file_extension": ".py",
   "mimetype": "text/x-python",
   "name": "python",
   "nbconvert_exporter": "python",
   "pygments_lexer": "ipython3",
   "version": "3.11.4"
  },
  "orig_nbformat": 4
 },
 "nbformat": 4,
 "nbformat_minor": 2
}
